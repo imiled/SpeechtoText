{
  "nbformat": 4,
  "nbformat_minor": 0,
  "metadata": {
    "colab": {
      "name": "speech generation.ipynb",
      "provenance": [],
      "mount_file_id": "1GtgBI7y4BnU795q0MdI-33gOHgVLkrmo",
      "authorship_tag": "ABX9TyO/h3PbiMq6uFtxFgOsceiC",
      "include_colab_link": true
    },
    "kernelspec": {
      "name": "python3",
      "display_name": "Python 3"
    }
  },
  "cells": [
    {
      "cell_type": "markdown",
      "metadata": {
        "id": "view-in-github",
        "colab_type": "text"
      },
      "source": [
        "<a href=\"https://colab.research.google.com/github/imiled/SpeechtoText/blob/master/speech_generation.ipynb\" target=\"_parent\"><img src=\"https://colab.research.google.com/assets/colab-badge.svg\" alt=\"Open In Colab\"/></a>"
      ]
    },
    {
      "cell_type": "code",
      "metadata": {
        "id": "OHR_EDSUr0vi",
        "colab_type": "code",
        "colab": {
          "base_uri": "https://localhost:8080/",
          "height": 140
        },
        "outputId": "36df7811-46f5-4668-ee53-590c66280b6d"
      },
      "source": [
        "!git clone https://github.com/Kyubyong/css10.git"
      ],
      "execution_count": 1,
      "outputs": [
        {
          "output_type": "stream",
          "text": [
            "Cloning into 'css10'...\n",
            "remote: Enumerating objects: 6, done.\u001b[K\n",
            "remote: Counting objects: 100% (6/6), done.\u001b[K\n",
            "remote: Compressing objects: 100% (6/6), done.\u001b[K\n",
            "remote: Total 909 (delta 2), reused 0 (delta 0), pack-reused 903\u001b[K\n",
            "Receiving objects: 100% (909/909), 183.26 MiB | 13.29 MiB/s, done.\n",
            "Resolving deltas: 100% (83/83), done.\n"
          ],
          "name": "stdout"
        }
      ]
    },
    {
      "cell_type": "code",
      "metadata": {
        "id": "tsZZWYWksFMv",
        "colab_type": "code",
        "colab": {
          "base_uri": "https://localhost:8080/",
          "height": 34
        },
        "outputId": "40c5117a-e235-4967-c3fa-620d7397c30e"
      },
      "source": [
        "!ls"
      ],
      "execution_count": 2,
      "outputs": [
        {
          "output_type": "stream",
          "text": [
            "css10  sample_data\n"
          ],
          "name": "stdout"
        }
      ]
    },
    {
      "cell_type": "code",
      "metadata": {
        "id": "nAFf-iMIsPOZ",
        "colab_type": "code",
        "colab": {
          "base_uri": "https://localhost:8080/",
          "height": 34
        },
        "outputId": "0dba5a2e-3de4-498c-ffc4-f486e1a21a49"
      },
      "source": [
        "%cd css10"
      ],
      "execution_count": 3,
      "outputs": [
        {
          "output_type": "stream",
          "text": [
            "/content/css10\n"
          ],
          "name": "stdout"
        }
      ]
    },
    {
      "cell_type": "code",
      "metadata": {
        "id": "5jQXYCaYsknh",
        "colab_type": "code",
        "colab": {
          "base_uri": "https://localhost:8080/",
          "height": 34
        },
        "outputId": "ca6d4573-e0ed-48e0-e928-c122a2e5c0d5"
      },
      "source": [
        "!pwd"
      ],
      "execution_count": 4,
      "outputs": [
        {
          "output_type": "stream",
          "text": [
            "/content/css10\n"
          ],
          "name": "stdout"
        }
      ]
    },
    {
      "cell_type": "code",
      "metadata": {
        "id": "GpHPfvN3smNB",
        "colab_type": "code",
        "colab": {}
      },
      "source": [
        "%mkdir es"
      ],
      "execution_count": 0,
      "outputs": []
    },
    {
      "cell_type": "code",
      "metadata": {
        "id": "-x6lNknlsvuo",
        "colab_type": "code",
        "colab": {
          "base_uri": "https://localhost:8080/",
          "height": 34
        },
        "outputId": "432f7e1d-8bba-420f-fdf7-7f12f24bb56d"
      },
      "source": [
        "%cd es"
      ],
      "execution_count": 6,
      "outputs": [
        {
          "output_type": "stream",
          "text": [
            "/content/css10/es\n"
          ],
          "name": "stdout"
        }
      ]
    },
    {
      "cell_type": "code",
      "metadata": {
        "id": "9q8ia-r8syWL",
        "colab_type": "code",
        "colab": {
          "base_uri": "https://localhost:8080/",
          "height": 34
        },
        "outputId": "278babb1-492a-4d1c-cf8f-9d2d30082fff"
      },
      "source": [
        "%cd .."
      ],
      "execution_count": 7,
      "outputs": [
        {
          "output_type": "stream",
          "text": [
            "/content/css10\n"
          ],
          "name": "stdout"
        }
      ]
    },
    {
      "cell_type": "code",
      "metadata": {
        "id": "Wf732FeMtKIA",
        "colab_type": "code",
        "colab": {
          "base_uri": "https://localhost:8080/",
          "height": 34
        },
        "outputId": "0b9b3982-0288-448e-fa30-c05af00d3fee"
      },
      "source": [
        "%pwd"
      ],
      "execution_count": 8,
      "outputs": [
        {
          "output_type": "execute_result",
          "data": {
            "text/plain": [
              "'/content/css10'"
            ]
          },
          "metadata": {
            "tags": []
          },
          "execution_count": 8
        }
      ]
    },
    {
      "cell_type": "code",
      "metadata": {
        "id": "obfg6RLWtVeZ",
        "colab_type": "code",
        "colab": {
          "base_uri": "https://localhost:8080/",
          "height": 459
        },
        "outputId": "9c0bf81b-5a77-4abb-8e89-9a8d9904039e"
      },
      "source": [
        "!wget https://www.dropbox.com/s/1zpkojc8hvvkprx/es_logdir.zip?dl=0"
      ],
      "execution_count": 9,
      "outputs": [
        {
          "output_type": "stream",
          "text": [
            "--2020-06-12 18:05:42--  https://www.dropbox.com/s/1zpkojc8hvvkprx/es_logdir.zip?dl=0\n",
            "Resolving www.dropbox.com (www.dropbox.com)... 162.125.82.1, 2620:100:6032:1::a27d:5201\n",
            "Connecting to www.dropbox.com (www.dropbox.com)|162.125.82.1|:443... connected.\n",
            "HTTP request sent, awaiting response... 301 Moved Permanently\n",
            "Location: /s/raw/1zpkojc8hvvkprx/es_logdir.zip [following]\n",
            "--2020-06-12 18:05:42--  https://www.dropbox.com/s/raw/1zpkojc8hvvkprx/es_logdir.zip\n",
            "Reusing existing connection to www.dropbox.com:443.\n",
            "HTTP request sent, awaiting response... 302 Found\n",
            "Location: https://ucfc5317bfcae81346871dd05aa4.dl.dropboxusercontent.com/cd/0/inline/A5g_3bisYV2iV3hADFi2wygALFK2yyRfTxSRFe-2hvPfcaqIFZeT3uTKMbgmggS7EdCjtsIe-nlV1RnVNC0qQD0kGFskzKjkIP--MVkhICwkng/file# [following]\n",
            "--2020-06-12 18:05:43--  https://ucfc5317bfcae81346871dd05aa4.dl.dropboxusercontent.com/cd/0/inline/A5g_3bisYV2iV3hADFi2wygALFK2yyRfTxSRFe-2hvPfcaqIFZeT3uTKMbgmggS7EdCjtsIe-nlV1RnVNC0qQD0kGFskzKjkIP--MVkhICwkng/file\n",
            "Resolving ucfc5317bfcae81346871dd05aa4.dl.dropboxusercontent.com (ucfc5317bfcae81346871dd05aa4.dl.dropboxusercontent.com)... 162.125.82.15, 2620:100:6032:15::a27d:520f\n",
            "Connecting to ucfc5317bfcae81346871dd05aa4.dl.dropboxusercontent.com (ucfc5317bfcae81346871dd05aa4.dl.dropboxusercontent.com)|162.125.82.15|:443... connected.\n",
            "HTTP request sent, awaiting response... 302 Found\n",
            "Location: /cd/0/inline2/A5iQCJL3GquySwwa3-pDqWwvSzNT2kZ7tx632abr3QzOwYAUUKLN7uGSonVG42HNXEuyyTlrcc76BM4aETyr7TH8DUAiiyg2Y-3S2BvjdeVPrROBibhxdmBGIn3tVIGsctknbG-RvYPPR2EDEzrO8IfkX8Js02eAK8KjV_n-x4HHSM8TaMX-5Mh3yo7Xl5IufWIQyHJJ6jwPUmoZlr9kbFd-S7Esfg8aPn9HdH7CxoUdd4oMrXx-Rx40k_OA3lZxRngH01xJB4Vahaf7PWGpHa8fOHy3c4wvhqWxdDwCHf9h3YKr5Bd4oOfO-NVubQo-5eifzkgRMo0ZgKPUChH6llk3/file [following]\n",
            "--2020-06-12 18:05:44--  https://ucfc5317bfcae81346871dd05aa4.dl.dropboxusercontent.com/cd/0/inline2/A5iQCJL3GquySwwa3-pDqWwvSzNT2kZ7tx632abr3QzOwYAUUKLN7uGSonVG42HNXEuyyTlrcc76BM4aETyr7TH8DUAiiyg2Y-3S2BvjdeVPrROBibhxdmBGIn3tVIGsctknbG-RvYPPR2EDEzrO8IfkX8Js02eAK8KjV_n-x4HHSM8TaMX-5Mh3yo7Xl5IufWIQyHJJ6jwPUmoZlr9kbFd-S7Esfg8aPn9HdH7CxoUdd4oMrXx-Rx40k_OA3lZxRngH01xJB4Vahaf7PWGpHa8fOHy3c4wvhqWxdDwCHf9h3YKr5Bd4oOfO-NVubQo-5eifzkgRMo0ZgKPUChH6llk3/file\n",
            "Reusing existing connection to ucfc5317bfcae81346871dd05aa4.dl.dropboxusercontent.com:443.\n",
            "HTTP request sent, awaiting response... 200 OK\n",
            "Length: 583404088 (556M) [application/zip]\n",
            "Saving to: ‘es_logdir.zip?dl=0’\n",
            "\n",
            "es_logdir.zip?dl=0  100%[===================>] 556.38M  12.7MB/s    in 45s     \n",
            "\n",
            "2020-06-12 18:06:30 (12.2 MB/s) - ‘es_logdir.zip?dl=0’ saved [583404088/583404088]\n",
            "\n"
          ],
          "name": "stdout"
        }
      ]
    },
    {
      "cell_type": "code",
      "metadata": {
        "id": "iQwyeVtqtXW5",
        "colab_type": "code",
        "colab": {
          "base_uri": "https://localhost:8080/",
          "height": 52
        },
        "outputId": "d6ef3285-3042-48f3-b30e-b6dc3e5e8e71"
      },
      "source": [
        "%ls"
      ],
      "execution_count": 10,
      "outputs": [
        {
          "output_type": "stream",
          "text": [
            "'Audio Maker.ipynb'   \u001b[0m\u001b[01;34mdc_tts\u001b[0m/  'es_logdir.zip?dl=0'   LICENSE   README.md\n",
            " css10.v.1.0.pdf      \u001b[01;34mes\u001b[0m/      'Join Audio.ipynb'     \u001b[01;34mMOS\u001b[0m/      \u001b[01;34mtacotron\u001b[0m/\n"
          ],
          "name": "stdout"
        }
      ]
    },
    {
      "cell_type": "code",
      "metadata": {
        "id": "9rZbWt3MtmXQ",
        "colab_type": "code",
        "colab": {
          "base_uri": "https://localhost:8080/",
          "height": 34
        },
        "outputId": "b8beb327-e27e-49d4-c6d9-aa2f1dd4cac6"
      },
      "source": [
        "%cd es"
      ],
      "execution_count": 11,
      "outputs": [
        {
          "output_type": "stream",
          "text": [
            "/content/css10/es\n"
          ],
          "name": "stdout"
        }
      ]
    },
    {
      "cell_type": "code",
      "metadata": {
        "id": "UxBPqiOIt5DA",
        "colab_type": "code",
        "colab": {
          "base_uri": "https://localhost:8080/",
          "height": 34
        },
        "outputId": "50c49f12-8a37-474f-9ff2-92bf2e9774a9"
      },
      "source": [
        "%ls"
      ],
      "execution_count": 12,
      "outputs": [
        {
          "output_type": "stream",
          "text": [
            "'es_logdir.zip?dl=0'\n"
          ],
          "name": "stdout"
        }
      ]
    },
    {
      "cell_type": "code",
      "metadata": {
        "id": "0l6jWLv_t6BJ",
        "colab_type": "code",
        "colab": {
          "base_uri": "https://localhost:8080/",
          "height": 52
        },
        "outputId": "46583340-0fbf-44ba-c00c-256e98f874cd"
      },
      "source": [
        "%ls -l"
      ],
      "execution_count": 13,
      "outputs": [
        {
          "output_type": "stream",
          "text": [
            "total 569736\n",
            "-rw-r--r-- 1 root root 583404088 Jun 12 18:06 'es_logdir.zip?dl=0'\n"
          ],
          "name": "stdout"
        }
      ]
    },
    {
      "cell_type": "code",
      "metadata": {
        "id": "MskiEiTQuKrG",
        "colab_type": "code",
        "colab": {
          "base_uri": "https://localhost:8080/",
          "height": 34
        },
        "outputId": "97747806-24fb-4a70-be57-66019dcf4657"
      },
      "source": [
        "%chmod 777 'es_logdir.zip?dl=0'"
      ],
      "execution_count": 14,
      "outputs": [
        {
          "output_type": "stream",
          "text": [
            "UsageError: Line magic function `%chmod` not found.\n"
          ],
          "name": "stderr"
        }
      ]
    },
    {
      "cell_type": "code",
      "metadata": {
        "id": "6OYLGcDpuR0G",
        "colab_type": "code",
        "colab": {
          "base_uri": "https://localhost:8080/",
          "height": 943
        },
        "outputId": "972bdd29-f43b-4211-8953-08e1adf5f7a5"
      },
      "source": [
        "%cd"
      ],
      "execution_count": 15,
      "outputs": [
        {
          "output_type": "stream",
          "text": [
            "ERROR:root:Internal Python error in the inspect module.\n",
            "Below is the traceback from this internal error.\n",
            "\n"
          ],
          "name": "stderr"
        },
        {
          "output_type": "stream",
          "text": [
            "Traceback (most recent call last):\n",
            "  File \"/usr/local/lib/python3.6/dist-packages/IPython/core/interactiveshell.py\", line 2882, in run_code\n",
            "    exec(code_obj, self.user_global_ns, self.user_ns)\n",
            "  File \"<ipython-input-15-32ea3259b772>\", line 1, in <module>\n",
            "    get_ipython().magic('cd')\n",
            "  File \"/usr/local/lib/python3.6/dist-packages/IPython/core/interactiveshell.py\", line 2160, in magic\n",
            "    return self.run_line_magic(magic_name, magic_arg_s)\n",
            "  File \"/usr/local/lib/python3.6/dist-packages/IPython/core/interactiveshell.py\", line 2081, in run_line_magic\n",
            "    result = fn(*args,**kwargs)\n",
            "  File \"<decorator-gen-91>\", line 2, in cd\n",
            "  File \"/usr/local/lib/python3.6/dist-packages/IPython/core/magic.py\", line 188, in <lambda>\n",
            "    call = lambda f, *a, **k: f(*a, **k)\n",
            "  File \"/usr/local/lib/python3.6/dist-packages/IPython/core/magics/osm.py\", line 288, in cd\n",
            "    oldcwd = py3compat.getcwd()\n",
            "FileNotFoundError: [Errno 2] No such file or directory\n",
            "\n",
            "During handling of the above exception, another exception occurred:\n",
            "\n",
            "Traceback (most recent call last):\n",
            "  File \"/usr/local/lib/python3.6/dist-packages/IPython/core/interactiveshell.py\", line 1823, in showtraceback\n",
            "    stb = value._render_traceback_()\n",
            "AttributeError: 'FileNotFoundError' object has no attribute '_render_traceback_'\n",
            "\n",
            "During handling of the above exception, another exception occurred:\n",
            "\n",
            "Traceback (most recent call last):\n",
            "  File \"/usr/local/lib/python3.6/dist-packages/IPython/core/ultratb.py\", line 1132, in get_records\n",
            "    return _fixed_getinnerframes(etb, number_of_lines_of_context, tb_offset)\n",
            "  File \"/usr/local/lib/python3.6/dist-packages/IPython/core/ultratb.py\", line 313, in wrapped\n",
            "    return f(*args, **kwargs)\n",
            "  File \"/usr/local/lib/python3.6/dist-packages/IPython/core/ultratb.py\", line 358, in _fixed_getinnerframes\n",
            "    records = fix_frame_records_filenames(inspect.getinnerframes(etb, context))\n",
            "  File \"/usr/lib/python3.6/inspect.py\", line 1490, in getinnerframes\n",
            "    frameinfo = (tb.tb_frame,) + getframeinfo(tb, context)\n",
            "  File \"/usr/lib/python3.6/inspect.py\", line 1448, in getframeinfo\n",
            "    filename = getsourcefile(frame) or getfile(frame)\n",
            "  File \"/usr/lib/python3.6/inspect.py\", line 696, in getsourcefile\n",
            "    if getattr(getmodule(object, filename), '__loader__', None) is not None:\n",
            "  File \"/usr/lib/python3.6/inspect.py\", line 725, in getmodule\n",
            "    file = getabsfile(object, _filename)\n",
            "  File \"/usr/lib/python3.6/inspect.py\", line 709, in getabsfile\n",
            "    return os.path.normcase(os.path.abspath(_filename))\n",
            "  File \"/usr/lib/python3.6/posixpath.py\", line 383, in abspath\n",
            "    cwd = os.getcwd()\n",
            "FileNotFoundError: [Errno 2] No such file or directory\n"
          ],
          "name": "stdout"
        },
        {
          "output_type": "error",
          "ename": "FileNotFoundError",
          "evalue": "ignored",
          "traceback": [
            "\u001b[0;31m---------------------------------------------------------------------------\u001b[0m"
          ]
        }
      ]
    },
    {
      "cell_type": "code",
      "metadata": {
        "id": "CeDE8M2Fv2l5",
        "colab_type": "code",
        "colab": {
          "base_uri": "https://localhost:8080/",
          "height": 34
        },
        "outputId": "0e527ad0-9e52-4a87-c4e7-93326c0c66f7"
      },
      "source": [
        "!pwd"
      ],
      "execution_count": 1,
      "outputs": [
        {
          "output_type": "stream",
          "text": [
            "/content\n"
          ],
          "name": "stdout"
        }
      ]
    },
    {
      "cell_type": "code",
      "metadata": {
        "id": "ILN3SHUVv4z9",
        "colab_type": "code",
        "colab": {}
      },
      "source": [
        ""
      ],
      "execution_count": 0,
      "outputs": []
    }
  ]
}