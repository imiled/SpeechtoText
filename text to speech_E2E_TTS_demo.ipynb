{
  "nbformat": 4,
  "nbformat_minor": 0,
  "metadata": {
    "colab": {
      "name": "Copy of E2E-TTS demo",
      "provenance": [],
      "collapsed_sections": [
        "3lMJyJcLCsd4",
        "gtSZpF-mCjTr",
        "98SCpId7__5S"
      ],
      "include_colab_link": true
    },
    "kernelspec": {
      "name": "python3",
      "display_name": "Python 3"
    },
    "accelerator": "GPU"
  },
  "cells": [
    {
      "cell_type": "markdown",
      "metadata": {
        "id": "view-in-github",
        "colab_type": "text"
      },
      "source": [
        "<a href=\"https://colab.research.google.com/github/imiled/SpeechtoText/blob/master/text%20to%20speech_E2E_TTS_demo.ipynb\" target=\"_parent\"><img src=\"https://colab.research.google.com/assets/colab-badge.svg\" alt=\"Open In Colab\"/></a>"
      ]
    },
    {
      "cell_type": "markdown",
      "metadata": {
        "id": "SMSw_r1uRm4a",
        "colab_type": "text"
      },
      "source": [
        "[![Open In Colab](https://colab.research.google.com/assets/colab-badge.svg)](https://colab.research.google.com/github/espnet/notebook/blob/master/tts_realtime_demo.ipynb)"
      ]
    },
    {
      "cell_type": "markdown",
      "metadata": {
        "id": "MuhqhYSToxl7",
        "colab_type": "text"
      },
      "source": [
        "# ESPnet real time E2E-TTS demonstration\n",
        "\n",
        "This notebook provides a demonstration of the realtime E2E-TTS using ESPnet-TTS and ParallelWaveGAN (+ MelGAN).\n",
        "\n",
        "- ESPnet: https://github.com/espnet/espnet\n",
        "- ParallelWaveGAN: https://github.com/kan-bayashi/ParallelWaveGAN\n",
        "\n",
        "Author: Tomoki Hayashi ([@kan-bayashi](https://github.com/kan-bayashi))"
      ]
    },
    {
      "cell_type": "markdown",
      "metadata": {
        "id": "9e_i_gdgAFNJ",
        "colab_type": "text"
      },
      "source": [
        "## Install"
      ]
    },
    {
      "cell_type": "code",
      "metadata": {
        "id": "fjJ5zkyaoy29",
        "colab_type": "code",
        "outputId": "97d8bf73-0336-498a-d40e-ca9b13ca7956",
        "colab": {
          "base_uri": "https://localhost:8080/",
          "height": 403
        }
      },
      "source": [
        "# install minimal components\n",
        "!pip install -q parallel_wavegan PyYaml unidecode ConfigArgparse g2p_en espnet_tts_frontend\n",
        "!git clone -q https://github.com/kan-bayashi/espnet.git -b fix_import\n",
        "!cd espnet && git fetch && git checkout -b v.0.7.0 4ad3247c850bb6696e4e2c3f7633c0153463dded"
      ],
      "execution_count": 0,
      "outputs": [
        {
          "output_type": "stream",
          "text": [
            "\u001b[K     |████████████████████████████████| 51kB 4.0MB/s \n",
            "\u001b[K     |████████████████████████████████| 245kB 14.2MB/s \n",
            "\u001b[K     |████████████████████████████████| 51kB 5.4MB/s \n",
            "\u001b[K     |████████████████████████████████| 3.1MB 13.1MB/s \n",
            "\u001b[K     |████████████████████████████████| 1.6MB 55.0MB/s \n",
            "\u001b[K     |████████████████████████████████| 204kB 41.6MB/s \n",
            "\u001b[K     |████████████████████████████████| 184kB 55.0MB/s \n",
            "\u001b[K     |████████████████████████████████| 7.1MB 30.1MB/s \n",
            "\u001b[K     |████████████████████████████████| 460kB 52.4MB/s \n",
            "\u001b[K     |████████████████████████████████| 757kB 51.9MB/s \n",
            "\u001b[?25h  Building wheel for parallel-wavegan (setup.py) ... \u001b[?25l\u001b[?25hdone\n",
            "  Building wheel for ConfigArgparse (setup.py) ... \u001b[?25l\u001b[?25hdone\n",
            "  Building wheel for librosa (setup.py) ... \u001b[?25l\u001b[?25hdone\n",
            "  Building wheel for kaldiio (setup.py) ... \u001b[?25l\u001b[?25hdone\n",
            "  Building wheel for distance (setup.py) ... \u001b[?25l\u001b[?25hdone\n",
            "  Building wheel for jaconv (setup.py) ... \u001b[?25l\u001b[?25hdone\n",
            "  Building wheel for clint (setup.py) ... \u001b[?25l\u001b[?25hdone\n",
            "  Building wheel for args (setup.py) ... \u001b[?25l\u001b[?25hdone\n",
            "\u001b[31mERROR: languageflow 1.1.13a1 has requirement joblib==0.13.2, but you'll have joblib 0.15.1 which is incompatible.\u001b[0m\n",
            "\u001b[31mERROR: languageflow 1.1.13a1 has requirement scikit-learn==0.20.3, but you'll have scikit-learn 0.22.2.post1 which is incompatible.\u001b[0m\n",
            "\u001b[31mERROR: underthesea 1.1.17 has requirement nltk<3.5,>=3.4, but you'll have nltk 3.2.5 which is incompatible.\u001b[0m\n",
            "Switched to a new branch 'v.0.7.0'\n"
          ],
          "name": "stdout"
        }
      ]
    },
    {
      "cell_type": "markdown",
      "metadata": {
        "id": "3lMJyJcLCsd4",
        "colab_type": "text"
      },
      "source": [
        "\n",
        "\n",
        "---\n",
        "## English demo\n"
      ]
    },
    {
      "cell_type": "code",
      "metadata": {
        "id": "G7mR9ZRQ4DTy",
        "colab_type": "code",
        "colab": {}
      },
      "source": [
        ""
      ],
      "execution_count": 0,
      "outputs": []
    },
    {
      "cell_type": "code",
      "metadata": {
        "id": "XuhSBCcj4C07",
        "colab_type": "code",
        "colab": {}
      },
      "source": [
        ""
      ],
      "execution_count": 0,
      "outputs": []
    },
    {
      "cell_type": "markdown",
      "metadata": {
        "id": "C1a5CgX1AHXJ",
        "colab_type": "text"
      },
      "source": [
        "### Download pretrained feature generation model\n",
        "\n",
        "You can select one from three models. Please only run the seletected model cells.\n"
      ]
    },
    {
      "cell_type": "markdown",
      "metadata": {
        "id": "rWaOkhGVQNla",
        "colab_type": "text"
      },
      "source": [
        "#### (a) Tacotron2"
      ]
    },
    {
      "cell_type": "code",
      "metadata": {
        "id": "mCM9Eo2cPXhZ",
        "colab_type": "code",
        "colab": {}
      },
      "source": [
        "# download pretrained model\n",
        "import os\n",
        "if not os.path.exists(\"downloads/en/tacotron2\"):\n",
        "    !./espnet/utils/download_from_google_drive.sh \\\n",
        "        https://drive.google.com/open?id=1lFfeyewyOsxaNO-DEWy9iSz6qB9ZS1UR downloads/en/tacotron2 tar.gz\n",
        "\n",
        "# set path\n",
        "trans_type = \"phn\"\n",
        "dict_path = \"downloads/en/tacotron2/data/lang_1phn/phn_train_no_dev_units.txt\"\n",
        "model_path = \"downloads/en/tacotron2/exp/phn_train_no_dev_pytorch_train_pytorch_tacotron2.v3/results/model.last1.avg.best\"\n",
        "\n",
        "print(\"sucessfully finished download.\")"
      ],
      "execution_count": 0,
      "outputs": []
    },
    {
      "cell_type": "markdown",
      "metadata": {
        "id": "Z6dhfhcrQI6_",
        "colab_type": "text"
      },
      "source": [
        "#### (b) Transformer"
      ]
    },
    {
      "cell_type": "code",
      "metadata": {
        "id": "ztWZjy_XOPZR",
        "colab_type": "code",
        "colab": {}
      },
      "source": [
        "# download pretrained model\n",
        "import os\n",
        "if not os.path.exists(\"downloads/en/transformer\"):\n",
        "    !./espnet/utils/download_from_google_drive.sh \\\n",
        "        https://drive.google.com/open?id=1z8KSOWVBjK-_Ws4RxVN4NTx-Buy03-7c downloads/en/transformer tar.gz\n",
        "\n",
        "# set path\n",
        "trans_type = \"phn\"\n",
        "dict_path = \"downloads/en/transformer/data/lang_1phn/phn_train_no_dev_units.txt\"\n",
        "model_path = \"downloads/en/transformer/exp/phn_train_no_dev_pytorch_train_pytorch_transformer.v3.single/results/model.last1.avg.best\"\n",
        "\n",
        "print(\"sucessfully finished download.\")"
      ],
      "execution_count": 0,
      "outputs": []
    },
    {
      "cell_type": "markdown",
      "metadata": {
        "id": "VONMvIC1ODvR",
        "colab_type": "text"
      },
      "source": [
        "#### (c) FastSpeech\n"
      ]
    },
    {
      "cell_type": "code",
      "metadata": {
        "id": "ZX0Kmo72POfY",
        "colab_type": "code",
        "outputId": "e2091b8e-6d9a-4d21-e20d-6142b259ecae",
        "colab": {
          "base_uri": "https://localhost:8080/",
          "height": 579
        }
      },
      "source": [
        "# download pretrained model\n",
        "import os\n",
        "if not os.path.exists(\"downloads/en/fastspeech\"):\n",
        "    !./espnet/utils/download_from_google_drive.sh \\\n",
        "        https://drive.google.com/open?id=1P9I4qag8wAcJiTCPawt6WCKBqUfJFtFp downloads/en/fastspeech tar.gz\n",
        "\n",
        "# set path\n",
        "trans_type = \"phn\"\n",
        "dict_path = \"downloads/en/fastspeech/data/lang_1phn/phn_train_no_dev_units.txt\"\n",
        "model_path = \"downloads/en/fastspeech/exp/phn_train_no_dev_pytorch_train_tacotron2.v3_fastspeech.v4.single/results/model.last1.avg.best\"\n",
        "\n",
        "print(\"Sucessfully finished download.\")"
      ],
      "execution_count": 0,
      "outputs": [
        {
          "output_type": "stream",
          "text": [
            "--2020-06-12 18:54:03--  https://drive.google.com/uc?export=download&id=1P9I4qag8wAcJiTCPawt6WCKBqUfJFtFp\n",
            "Resolving drive.google.com (drive.google.com)... 108.177.126.101, 108.177.126.139, 108.177.126.100, ...\n",
            "Connecting to drive.google.com (drive.google.com)|108.177.126.101|:443... connected.\n",
            "HTTP request sent, awaiting response... 200 OK\n",
            "Length: unspecified [text/html]\n",
            "Saving to: ‘downloads/en/fastspeech/RSI1Jv.tar.gz’\n",
            "\n",
            "\r          downloads     [<=>                 ]       0  --.-KB/s               \rdownloads/en/fastsp     [ <=>                ]   3.23K  --.-KB/s    in 0s      \n",
            "\n",
            "2020-06-12 18:54:04 (45.9 MB/s) - ‘downloads/en/fastspeech/RSI1Jv.tar.gz’ saved [3309]\n",
            "\n",
            "\n",
            "gzip: stdin: not in gzip format\n",
            "tar: Child returned status 1\n",
            "tar: Error is not recoverable: exiting now\n",
            "  % Total    % Received % Xferd  Average Speed   Time    Time     Time  Current\n",
            "                                 Dload  Upload   Total   Spent    Left  Speed\n",
            "\r  0     0    0     0    0     0      0      0 --:--:-- --:--:-- --:--:--     0\r100  3309    0  3309    0     0  17056      0 --:--:-- --:--:-- --:--:-- 17056\n",
            "  % Total    % Received % Xferd  Average Speed   Time    Time     Time  Current\n",
            "                                 Dload  Upload   Total   Spent    Left  Speed\n",
            "\r  0     0    0     0    0     0      0      0 --:--:-- --:--:-- --:--:--     0\r100   408    0   408    0     0   2181      0 --:--:-- --:--:-- --:--:--  2181\n",
            "  0     0    0     0    0     0      0      0 --:--:-- --:--:-- --:--:--     0\n",
            "  0     0    0     0    0     0      0      0 --:--:-- --:--:-- --:--:--     0\n",
            "100  181M    0  181M    0     0  88.7M      0 --:--:--  0:00:02 --:--:--  171M\n",
            "conf/tuning/train_fastspeech.v4.single.yaml\n",
            "conf/decode.yaml\n",
            "data/phn_train_no_dev/cmvn.ark\n",
            "exp/phn_train_no_dev_pytorch_train_tacotron2.v3_fastspeech.v4.single/results/model.last1.avg.best\n",
            "exp/phn_train_no_dev_pytorch_train_tacotron2.v3_fastspeech.v4.single/results/model.json\n",
            "data/lang_1phn/phn_train_no_dev_units.txt\n",
            "Sucessfully downloaded tar.gz file from https://drive.google.com/open?id=1P9I4qag8wAcJiTCPawt6WCKBqUfJFtFp\n",
            "Sucessfully finished download.\n"
          ],
          "name": "stdout"
        }
      ]
    },
    {
      "cell_type": "markdown",
      "metadata": {
        "id": "vwc7JXD_dAy8",
        "colab_type": "text"
      },
      "source": [
        "### Download pretrained vocoder model\n",
        "\n",
        "You can select one from two models. Please only run the seletected model cells."
      ]
    },
    {
      "cell_type": "markdown",
      "metadata": {
        "id": "VdIFfyL9eWic",
        "colab_type": "text"
      },
      "source": [
        "#### (a) Parallel WaveGAN"
      ]
    },
    {
      "cell_type": "code",
      "metadata": {
        "id": "nQDFNuQ2dK-M",
        "colab_type": "code",
        "colab": {}
      },
      "source": [
        "# download pretrained model\n",
        "import os\n",
        "if not os.path.exists(\"downloads/en/parallel_wavegan\"):\n",
        "    !./espnet/utils/download_from_google_drive.sh \\\n",
        "        https://drive.google.com/open?id=1Grn7X9wD35UcDJ5F7chwdTqTa4U7DeVB downloads/en/parallel_wavegan tar.gz\n",
        "\n",
        "# set path\n",
        "vocoder_path = \"downloads/en/parallel_wavegan/ljspeech.parallel_wavegan.v2/checkpoint-400000steps.pkl\"\n",
        "vocoder_conf = \"downloads/en/parallel_wavegan/ljspeech.parallel_wavegan.v2/config.yml\"\n",
        "\n",
        "print(\"Sucessfully finished download.\")"
      ],
      "execution_count": 0,
      "outputs": []
    },
    {
      "cell_type": "markdown",
      "metadata": {
        "id": "5B0V2Wy6ebNE",
        "colab_type": "text"
      },
      "source": [
        "#### (b) MelGAN"
      ]
    },
    {
      "cell_type": "code",
      "metadata": {
        "id": "UBBAokMQegdK",
        "colab_type": "code",
        "outputId": "540d2f19-76a9-4e60-d58f-0677dd95b904",
        "colab": {
          "base_uri": "https://localhost:8080/",
          "height": 544
        }
      },
      "source": [
        "# download pretrained model\n",
        "import os\n",
        "if not os.path.exists(\"downloads/en/melgan\"):\n",
        "    !./espnet/utils/download_from_google_drive.sh \\\n",
        "        https://drive.google.com/open?id=1_a8faVA5OGCzIcJNw4blQYjfG4oA9VEt downloads/en/melgan tar.gz\n",
        "\n",
        "# set path\n",
        "vocoder_path = \"downloads/en/melgan/train_nodev_ljspeech_melgan.v3.long/checkpoint-4000000steps.pkl\"\n",
        "vocoder_conf = \"downloads/en/melgan/train_nodev_ljspeech_melgan.v3.long/config.yml\"\n",
        "\n",
        "print(\"Sucessfully finished download.\")"
      ],
      "execution_count": 0,
      "outputs": [
        {
          "output_type": "stream",
          "text": [
            "--2020-06-12 18:55:05--  https://drive.google.com/uc?export=download&id=1_a8faVA5OGCzIcJNw4blQYjfG4oA9VEt\n",
            "Resolving drive.google.com (drive.google.com)... 108.177.126.100, 108.177.126.102, 108.177.126.138, ...\n",
            "Connecting to drive.google.com (drive.google.com)|108.177.126.100|:443... connected.\n",
            "HTTP request sent, awaiting response... 200 OK\n",
            "Length: unspecified [text/html]\n",
            "Saving to: ‘downloads/en/melgan/DKPqjg.tar.gz’\n",
            "\n",
            "\r          downloads     [<=>                 ]       0  --.-KB/s               \rdownloads/en/melgan     [ <=>                ]   3.20K  --.-KB/s    in 0s      \n",
            "\n",
            "2020-06-12 18:55:05 (43.4 MB/s) - ‘downloads/en/melgan/DKPqjg.tar.gz’ saved [3277]\n",
            "\n",
            "\n",
            "gzip: stdin: not in gzip format\n",
            "tar: Child returned status 1\n",
            "tar: Error is not recoverable: exiting now\n",
            "  % Total    % Received % Xferd  Average Speed   Time    Time     Time  Current\n",
            "                                 Dload  Upload   Total   Spent    Left  Speed\n",
            "\r  0     0    0     0    0     0      0      0 --:--:-- --:--:-- --:--:--     0\r100  3277    0  3277    0     0  16467      0 --:--:-- --:--:-- --:--:-- 16467\n",
            "  % Total    % Received % Xferd  Average Speed   Time    Time     Time  Current\n",
            "                                 Dload  Upload   Total   Spent    Left  Speed\n",
            "100   408    0   408    0     0   2229      0 --:--:-- --:--:-- --:--:--  2229\n",
            "  0     0    0     0    0     0      0      0 --:--:-- --:--:-- --:--:--     0\n",
            "  0     0    0     0    0     0      0      0 --:--:-- --:--:-- --:--:--     0\n",
            "100  225M    0  225M    0     0  56.6M      0 --:--:--  0:00:03 --:--:-- 72.8M\n",
            "train_nodev_ljspeech_melgan.v3.long/\n",
            "train_nodev_ljspeech_melgan.v3.long/checkpoint-4000000steps.pkl\n",
            "train_nodev_ljspeech_melgan.v3.long/config.yml\n",
            "train_nodev_ljspeech_melgan.v3.long/stats.h5\n",
            "Sucessfully downloaded tar.gz file from https://drive.google.com/open?id=1_a8faVA5OGCzIcJNw4blQYjfG4oA9VEt\n",
            "Sucessfully finished download.\n"
          ],
          "name": "stdout"
        }
      ]
    },
    {
      "cell_type": "markdown",
      "metadata": {
        "id": "-olNAOEtYtU0",
        "colab_type": "text"
      },
      "source": [
        "#### (c) Multi-band MelGAN\n",
        "\n",
        "This is an **EXPERIMENTAL** model."
      ]
    },
    {
      "cell_type": "code",
      "metadata": {
        "id": "8DgoxvIfYsUh",
        "colab_type": "code",
        "colab": {}
      },
      "source": [
        "# download pretrained model\n",
        "import os\n",
        "if not os.path.exists(\"downloads/en/mb-melgan\"):\n",
        "    !./espnet/utils/download_from_google_drive.sh \\\n",
        "        https://drive.google.com/open?id=1rGG5y15uy4WZ-lJy8NPVTkmB_6VhC20V downloads/en/mb-melgan tar.gz\n",
        "\n",
        "# set path\n",
        "vocoder_path = \"downloads/en/mb-melgan/train_nodev_ljspeech_multi_band_melgan.v1/checkpoint-1000000steps.pkl\"\n",
        "vocoder_conf = \"downloads/en/mb-melgan/train_nodev_ljspeech_multi_band_melgan.v1/config.yml\"\n",
        "\n",
        "print(\"Sucessfully finished download.\")"
      ],
      "execution_count": 0,
      "outputs": []
    },
    {
      "cell_type": "markdown",
      "metadata": {
        "id": "HaSyEKBWAK7H",
        "colab_type": "text"
      },
      "source": [
        "### Setup"
      ]
    },
    {
      "cell_type": "code",
      "metadata": {
        "id": "i8JXOfRfqMFN",
        "colab_type": "code",
        "outputId": "54e176fd-c695-4034-fb24-7dedf1ca0d38",
        "colab": {
          "base_uri": "https://localhost:8080/",
          "height": 157
        }
      },
      "source": [
        "# add path\n",
        "import sys\n",
        "sys.path.append(\"espnet\")\n",
        "\n",
        "# define device\n",
        "import torch\n",
        "device = torch.device(\"cuda\")\n",
        "\n",
        "# define E2E-TTS model\n",
        "from argparse import Namespace\n",
        "from espnet.asr.asr_utils import get_model_conf\n",
        "from espnet.asr.asr_utils import torch_load\n",
        "from espnet.utils.dynamic_import import dynamic_import\n",
        "idim, odim, train_args = get_model_conf(model_path)\n",
        "model_class = dynamic_import(train_args.model_module)\n",
        "model = model_class(idim, odim, train_args)\n",
        "torch_load(model_path, model)\n",
        "model = model.eval().to(device)\n",
        "inference_args = Namespace(**{\n",
        "    \"threshold\": 0.5,\"minlenratio\": 0.0, \"maxlenratio\": 10.0,\n",
        "    # Only for Tacotron 2\n",
        "    \"use_attention_constraint\": True, \"backward_window\": 1,\"forward_window\":3,\n",
        "    # Only for fastspeech (lower than 1.0 is faster speech, higher than 1.0 is slower speech)\n",
        "    \"fastspeech_alpha\": 1.0,\n",
        "    })\n",
        "\n",
        "# define neural vocoder\n",
        "import yaml\n",
        "import parallel_wavegan.models\n",
        "with open(vocoder_conf) as f:\n",
        "    config = yaml.load(f, Loader=yaml.Loader)\n",
        "vocoder_class = config.get(\"generator_type\", \"ParallelWaveGANGenerator\")\n",
        "vocoder = getattr(parallel_wavegan.models, vocoder_class)(**config[\"generator_params\"])\n",
        "vocoder.load_state_dict(torch.load(vocoder_path, map_location=\"cpu\")[\"model\"][\"generator\"])\n",
        "vocoder.remove_weight_norm()\n",
        "vocoder = vocoder.eval().to(device)\n",
        "if config[\"generator_params\"][\"out_channels\"] > 1:\n",
        "    from parallel_wavegan.layers import PQMF\n",
        "    pqmf = PQMF(config[\"generator_params\"][\"out_channels\"]).to(device)\n",
        "\n",
        "# define text frontend\n",
        "from tacotron_cleaner.cleaners import custom_english_cleaners\n",
        "from g2p_en import G2p\n",
        "with open(dict_path) as f:\n",
        "    lines = f.readlines()\n",
        "lines = [line.replace(\"\\n\", \"\").split(\" \") for line in lines]\n",
        "char_to_id = {c: int(i) for c, i in lines}\n",
        "g2p = G2p()\n",
        "def frontend(text):\n",
        "    \"\"\"Clean text and then convert to id sequence.\"\"\"\n",
        "    text = custom_english_cleaners(text)\n",
        "    \n",
        "    if trans_type == \"phn\":\n",
        "        text = filter(lambda s: s != \" \", g2p(text))\n",
        "        text = \" \".join(text)\n",
        "        print(f\"Cleaned text: {text}\")\n",
        "        charseq = text.split(\" \")\n",
        "    else:\n",
        "        print(f\"Cleaned text: {text}\")\n",
        "        charseq = list(text)\n",
        "    idseq = []\n",
        "    for c in charseq:\n",
        "        if c.isspace():\n",
        "            idseq += [char_to_id[\"<space>\"]]\n",
        "        elif c not in char_to_id.keys():\n",
        "            idseq += [char_to_id[\"<unk>\"]]\n",
        "        else:\n",
        "            idseq += [char_to_id[c]]\n",
        "    idseq += [idim - 1]  # <eos>\n",
        "    return torch.LongTensor(idseq).view(-1).to(device)\n",
        "\n",
        "import nltk\n",
        "nltk.download('punkt')\n",
        "print(\"Now ready to synthesize!\")"
      ],
      "execution_count": 0,
      "outputs": [
        {
          "output_type": "stream",
          "text": [
            "[nltk_data] Downloading package averaged_perceptron_tagger to\n",
            "[nltk_data]     /root/nltk_data...\n",
            "[nltk_data]   Unzipping taggers/averaged_perceptron_tagger.zip.\n",
            "[nltk_data] Downloading package cmudict to /root/nltk_data...\n",
            "[nltk_data]   Unzipping corpora/cmudict.zip.\n",
            "[nltk_data] Downloading package punkt to /root/nltk_data...\n",
            "[nltk_data]   Unzipping tokenizers/punkt.zip.\n",
            "Now ready to synthesize!\n"
          ],
          "name": "stdout"
        }
      ]
    },
    {
      "cell_type": "markdown",
      "metadata": {
        "id": "AacD_RerASiO",
        "colab_type": "text"
      },
      "source": [
        "### Synthesis"
      ]
    },
    {
      "cell_type": "code",
      "metadata": {
        "id": "9gGRzrjyudWF",
        "colab_type": "code",
        "outputId": "41125dac-4bcd-4012-81db-70940c055b02",
        "colab": {
          "base_uri": "https://localhost:8080/",
          "height": 145
        }
      },
      "source": [
        "import time\n",
        "print(\"Input your favorite sentence in English!\")\n",
        "input_text = input()\n",
        "pad_fn = torch.nn.ReplicationPad1d(\n",
        "    config[\"generator_params\"].get(\"aux_context_window\", 0))\n",
        "use_noise_input = vocoder_class == \"ParallelWaveGANGenerator\"\n",
        "with torch.no_grad():\n",
        "    start = time.time()\n",
        "    x = frontend(input_text)\n",
        "    c, _, _ = model.inference(x, inference_args)\n",
        "    c = pad_fn(c.unsqueeze(0).transpose(2, 1)).to(device)\n",
        "    xx = (c,)\n",
        "    if use_noise_input:\n",
        "        z_size = (1, 1, (c.size(2) - sum(pad_fn.padding)) * config[\"hop_size\"])\n",
        "        z = torch.randn(z_size).to(device)\n",
        "        xx = (z,) + xx\n",
        "    if config[\"generator_params\"][\"out_channels\"] == 1:\n",
        "        y = vocoder(*xx).view(-1)\n",
        "    else:\n",
        "        y = pqmf.synthesis(vocoder(*xx)).view(-1)    \n",
        "rtf = (time.time() - start) / (len(y) / config[\"sampling_rate\"])\n",
        "print(f\"RTF = {rtf:5f}\")\n",
        "\n",
        "from IPython.display import display, Audio\n",
        "display(Audio(y.view(-1).cpu().numpy(), rate=config[\"sampling_rate\"]))"
      ],
      "execution_count": 0,
      "outputs": [
        {
          "output_type": "stream",
          "text": [
            "Input your favorite sentence in English!\n",
            "hello my name is francois\n",
            "Cleaned text: HH AH0 L OW1 M AY1 N EY1 M IH1 Z F R AA0 N S W AA1\n",
            "RTF = 0.014163\n"
          ],
          "name": "stdout"
        },
        {
          "output_type": "display_data",
          "data": {
            "text/html": [
              "\n",
              "                <audio controls=\"controls\" >\n",
              "                    <source src=\"data:audio/wav;base64,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\" type=\"audio/wav\" />\n",
              "                    Your browser does not support the audio element.\n",
              "                </audio>\n",
              "              "
            ],
            "text/plain": [
              "<IPython.lib.display.Audio object>"
            ]
          },
          "metadata": {
            "tags": []
          }
        }
      ]
    },
    {
      "cell_type": "markdown",
      "metadata": {
        "id": "gtSZpF-mCjTr",
        "colab_type": "text"
      },
      "source": [
        "\n",
        "\n",
        "---\n",
        "\n",
        "## Japanese demo\n"
      ]
    },
    {
      "cell_type": "markdown",
      "metadata": {
        "id": "UOkxcmprLYD8",
        "colab_type": "text"
      },
      "source": [
        "### Install Japanese dependencies"
      ]
    },
    {
      "cell_type": "code",
      "metadata": {
        "id": "TpHnzqesEMfh",
        "colab_type": "code",
        "colab": {}
      },
      "source": [
        "# install dependency\n",
        "!mkdir tools && cd tools && git clone https://github.com/r9y9/hts_engine_API.git\n",
        "!cd tools/hts_engine_API/src && ./waf configure && ./waf build install\n",
        "!cd tools && git clone https://github.com/r9y9/open_jtalk.git\n",
        "!mkdir -p tools/open_jtalk/src/build && cd tools/open_jtalk/src/build && cmake -DCMAKE_BUILD_TYPE=Release -DBUILD_SHARED_LIBS=ON .. && make install\n",
        "!cp tools/open_jtalk/src/build/*.so* /usr/lib64-nvidia\n",
        "!cd tools && git clone https://github.com/r9y9/pyopenjtalk.git\n",
        "!cd tools/pyopenjtalk && pip install ."
      ],
      "execution_count": 0,
      "outputs": []
    },
    {
      "cell_type": "markdown",
      "metadata": {
        "id": "LQiWSgwULc9L",
        "colab_type": "text"
      },
      "source": [
        "### Download pretrained models\n",
        "\n",
        "Here we select Tacotron2 or Transformer. The vocoder model is Parallel WaveGAN.\n"
      ]
    },
    {
      "cell_type": "markdown",
      "metadata": {
        "id": "bnWn46FmF8Nv",
        "colab_type": "text"
      },
      "source": [
        "#### (a) Tacotron 2"
      ]
    },
    {
      "cell_type": "code",
      "metadata": {
        "id": "bBEWUGItF2hf",
        "colab_type": "code",
        "colab": {}
      },
      "source": [
        "# download pretrained models\n",
        "import os\n",
        "if not os.path.exists(\"downloads/jp/tacotron2\"):\n",
        "    !./espnet/utils/download_from_google_drive.sh \\\n",
        "        https://drive.google.com/open?id=1OwrUQzAmvjj1x9cDhnZPp6dqtsEqGEJM downloads/jp/tacotron2 tar.gz\n",
        "    !./espnet/utils/download_from_google_drive.sh \\\n",
        "        https://drive.google.com/open?id=1kp5M4VvmagDmYckFJa78WGqh1drb_P9t downloads/jp/tacotron2 tar.gz\n",
        "\n",
        "# set path\n",
        "dict_path = \"downloads/jp/tacotron2/data/lang_1phn/train_no_dev_units.txt\"\n",
        "model_path = \"downloads/jp/tacotron2/exp/train_no_dev_pytorch_train_pytorch_tacotron2_phn/results/model.last1.avg.best\"\n",
        "vocoder_path = \"downloads/jp/tacotron2/jsut.parallel_wavegan.v1/checkpoint-400000steps.pkl\"\n",
        "vocoder_conf = \"downloads/jp/tacotron2/jsut.parallel_wavegan.v1/config.yml\"\n",
        "\n",
        "print(\"sucessfully finished download.\")"
      ],
      "execution_count": 0,
      "outputs": []
    },
    {
      "cell_type": "markdown",
      "metadata": {
        "id": "ta6wNJ4WGAEP",
        "colab_type": "text"
      },
      "source": [
        "#### (b) Transformer"
      ]
    },
    {
      "cell_type": "code",
      "metadata": {
        "id": "n7fLzr99CogD",
        "colab_type": "code",
        "colab": {}
      },
      "source": [
        "# download pretrained models\n",
        "import os\n",
        "if not os.path.exists(\"downloads/jp/transformer\"):\n",
        "    !./espnet/utils/download_from_google_drive.sh \\\n",
        "        https://drive.google.com/open?id=1OwrUQzAmvjj1x9cDhnZPp6dqtsEqGEJM downloads/jp/transformer tar.gz\n",
        "    !./espnet/utils/download_from_google_drive.sh \\\n",
        "        https://drive.google.com/open?id=1mEnZfBKqA4eT6Bn0eRZuP6lNzL-IL3VD downloads/jp/transformer tar.gz\n",
        "\n",
        "# set path\n",
        "dict_path = \"downloads/jp/transformer/data/lang_1phn/train_no_dev_units.txt\"\n",
        "model_path = \"downloads/jp/transformer/exp/train_no_dev_pytorch_train_pytorch_transformer_phn/results/model.last1.avg.best\"\n",
        "vocoder_path = \"downloads/jp/transformer/jsut.parallel_wavegan.v1/checkpoint-400000steps.pkl\"\n",
        "vocoder_conf = \"downloads/jp/transformer/jsut.parallel_wavegan.v1/config.yml\"\n",
        "\n",
        "print(\"sucessfully finished download.\")"
      ],
      "execution_count": 0,
      "outputs": []
    },
    {
      "cell_type": "markdown",
      "metadata": {
        "id": "7O2FXi1uLrUV",
        "colab_type": "text"
      },
      "source": [
        "### Setup"
      ]
    },
    {
      "cell_type": "code",
      "metadata": {
        "id": "69vGlN12DqB2",
        "colab_type": "code",
        "colab": {}
      },
      "source": [
        "# add path\n",
        "import sys\n",
        "sys.path.append(\"espnet\")\n",
        "\n",
        "# define device\n",
        "import torch\n",
        "device = torch.device(\"cuda\")\n",
        "\n",
        "# define E2E-TTS model\n",
        "from argparse import Namespace\n",
        "from espnet.asr.asr_utils import get_model_conf\n",
        "from espnet.asr.asr_utils import torch_load\n",
        "from espnet.utils.dynamic_import import dynamic_import\n",
        "idim, odim, train_args = get_model_conf(model_path)\n",
        "model_class = dynamic_import(train_args.model_module)\n",
        "model = model_class(idim, odim, train_args)\n",
        "torch_load(model_path, model)\n",
        "model = model.eval().to(device)\n",
        "inference_args = Namespace(**{\"threshold\": 0.5, \"minlenratio\": 0.0, \"maxlenratio\": 10.0})\n",
        "\n",
        "# define neural vocoder\n",
        "import yaml\n",
        "from parallel_wavegan.models import ParallelWaveGANGenerator\n",
        "with open(vocoder_conf) as f:\n",
        "    config = yaml.load(f, Loader=yaml.Loader)\n",
        "vocoder = ParallelWaveGANGenerator(**config[\"generator_params\"])\n",
        "vocoder.load_state_dict(torch.load(vocoder_path, map_location=\"cpu\")[\"model\"][\"generator\"])\n",
        "vocoder.remove_weight_norm()\n",
        "vocoder = vocoder.eval().to(device)\n",
        "\n",
        "# define text frontend\n",
        "import pyopenjtalk\n",
        "with open(dict_path) as f:\n",
        "    lines = f.readlines()\n",
        "lines = [line.replace(\"\\n\", \"\").split(\" \") for line in lines]\n",
        "char_to_id = {c: int(i) for c, i in lines}\n",
        "def frontend(text):\n",
        "    \"\"\"Clean text and then convert to id sequence.\"\"\"\n",
        "    text = pyopenjtalk.g2p(text, kana=False)\n",
        "    print(f\"Cleaned text: {text}\")\n",
        "    charseq = text.split(\" \")\n",
        "    idseq = []\n",
        "    for c in charseq:\n",
        "        if c.isspace():\n",
        "            idseq += [char_to_id[\"<space>\"]]\n",
        "        elif c not in char_to_id.keys():\n",
        "            idseq += [char_to_id[\"<unk>\"]]\n",
        "        else:\n",
        "            idseq += [char_to_id[c]]\n",
        "    idseq += [idim - 1]  # <eos>\n",
        "    return torch.LongTensor(idseq).view(-1).to(device)\n",
        "\n",
        "frontend(\"初回の辞書のインストールが必要です\")\n",
        "print(\"Now ready to synthesize!\")"
      ],
      "execution_count": 0,
      "outputs": []
    },
    {
      "cell_type": "markdown",
      "metadata": {
        "id": "HmyyM1RCN1Rs",
        "colab_type": "text"
      },
      "source": [
        "### Synthesis"
      ]
    },
    {
      "cell_type": "code",
      "metadata": {
        "id": "n2Dk9o0-JlbN",
        "colab_type": "code",
        "colab": {}
      },
      "source": [
        "import time\n",
        "print(\"日本語で好きな文章を入力してください\")\n",
        "input_text = input()\n",
        "\n",
        "with torch.no_grad():\n",
        "    start = time.time()\n",
        "    x = frontend(input_text)\n",
        "    c, _, _ = model.inference(x, inference_args)\n",
        "    z = torch.randn(1, 1, c.size(0) * config[\"hop_size\"]).to(device)\n",
        "    c = torch.nn.ReplicationPad1d(config[\"generator_params\"][\"aux_context_window\"])(c.unsqueeze(0).transpose(2, 1))\n",
        "    y = vocoder(z, c).view(-1)\n",
        "rtf = (time.time() - start) / (len(y) / config[\"sampling_rate\"])\n",
        "print(f\"RTF = {rtf:5f}\")\n",
        "\n",
        "from IPython.display import display, Audio\n",
        "display(Audio(y.view(-1).cpu().numpy(), rate=config[\"sampling_rate\"]))"
      ],
      "execution_count": 0,
      "outputs": []
    },
    {
      "cell_type": "markdown",
      "metadata": {
        "id": "98SCpId7__5S",
        "colab_type": "text"
      },
      "source": [
        "---\n",
        "## Mandarin demo\n",
        "\n",
        "**IMPORTANT NOTE**: The author cannot understand Mandarin. The text front-end part might have some bugs.\n"
      ]
    },
    {
      "cell_type": "markdown",
      "metadata": {
        "id": "o9SsPzWpMW7N",
        "colab_type": "text"
      },
      "source": [
        "### Install Mandarin dependencies"
      ]
    },
    {
      "cell_type": "code",
      "metadata": {
        "id": "h6AiFqy-_-gN",
        "colab_type": "code",
        "colab": {}
      },
      "source": [
        "!pip install pypinyin"
      ],
      "execution_count": 0,
      "outputs": []
    },
    {
      "cell_type": "markdown",
      "metadata": {
        "id": "HwsbvzE9MesI",
        "colab_type": "text"
      },
      "source": [
        "### Download pretrained models\n",
        "\n",
        "You can select Transformer or FastSpeech."
      ]
    },
    {
      "cell_type": "markdown",
      "metadata": {
        "id": "ZLqsIX1KMlA9",
        "colab_type": "text"
      },
      "source": [
        "#### (a) Transformer"
      ]
    },
    {
      "cell_type": "code",
      "metadata": {
        "id": "rrs3D7qBCMSY",
        "colab_type": "code",
        "colab": {}
      },
      "source": [
        "# download pretrained models\n",
        "import os\n",
        "if not os.path.exists(\"downloads/zh/transformer\"):\n",
        "    !./espnet/utils/download_from_google_drive.sh \\\n",
        "        https://drive.google.com/open?id=10M6H88jEUGbRWBmU1Ff2VaTmOAeL8CEy downloads/zh/transformer tar.gz\n",
        "    !./espnet/utils/download_from_google_drive.sh \\\n",
        "        https://drive.google.com/open?id=1bTSygvonv5TS6-iuYsOIUWpN2atGnyhZ downloads/zh/transformer tar.gz\n",
        "\n",
        "# set path\n",
        "dict_path = \"downloads/zh/transformer/data/lang_phn/train_no_dev_units.txt\"\n",
        "model_path = \"downloads/zh/transformer/exp/train_no_dev_pytorch_train_pytorch_transformer.v1.single/results/model.last1.avg.best\"\n",
        "vocoder_path = \"downloads/zh/transformer/csmsc.parallel_wavegan.v1/checkpoint-400000steps.pkl\"\n",
        "vocoder_conf = \"downloads/zh/transformer/csmsc.parallel_wavegan.v1/config.yml\"\n",
        "\n",
        "print(\"sucessfully finished download.\")"
      ],
      "execution_count": 0,
      "outputs": []
    },
    {
      "cell_type": "markdown",
      "metadata": {
        "id": "dhotjpBtMqqu",
        "colab_type": "text"
      },
      "source": [
        "#### (b) FastSpeech"
      ]
    },
    {
      "cell_type": "code",
      "metadata": {
        "id": "O06IGB5CMn7z",
        "colab_type": "code",
        "colab": {}
      },
      "source": [
        "# download pretrained models\n",
        "import os\n",
        "if not os.path.exists(\"downloads/zh/fastspeech\"):\n",
        "    !./espnet/utils/download_from_google_drive.sh \\\n",
        "        https://drive.google.com/open?id=10M6H88jEUGbRWBmU1Ff2VaTmOAeL8CEy downloads/zh/fastspeech tar.gz\n",
        "    !./espnet/utils/download_from_google_drive.sh \\\n",
        "        https://drive.google.com/open?id=1T8thxkAxjGFPXPWPTcKLvHnd6lG0-82R downloads/zh/fastspeech tar.gz \n",
        "\n",
        "# set path\n",
        "dict_path = \"downloads/zh/fastspeech/data/lang_phn/train_no_dev_units.txt\"\n",
        "model_path = \"downloads/zh/fastspeech/exp/train_no_dev_pytorch_train_fastspeech.v3.single/results/model.last1.avg.best\"\n",
        "vocoder_path = \"downloads/zh/fastspeech/csmsc.parallel_wavegan.v1/checkpoint-400000steps.pkl\"\n",
        "vocoder_conf = \"downloads/zh/fastspeech/csmsc.parallel_wavegan.v1/config.yml\"\n",
        "\n",
        "print(\"sucessfully finished download.\")"
      ],
      "execution_count": 0,
      "outputs": []
    },
    {
      "cell_type": "markdown",
      "metadata": {
        "id": "T0zOfTt4RekL",
        "colab_type": "text"
      },
      "source": [
        "### Setup"
      ]
    },
    {
      "cell_type": "code",
      "metadata": {
        "id": "MoNYASQ-A0cN",
        "colab_type": "code",
        "colab": {}
      },
      "source": [
        "# add path\n",
        "import sys\n",
        "sys.path.append(\"espnet\")\n",
        "\n",
        "# define device\n",
        "import torch\n",
        "device = torch.device(\"cuda\")\n",
        "\n",
        "# define E2E-TTS model\n",
        "from argparse import Namespace\n",
        "from espnet.asr.asr_utils import get_model_conf\n",
        "from espnet.asr.asr_utils import torch_load\n",
        "from espnet.utils.dynamic_import import dynamic_import\n",
        "idim, odim, train_args = get_model_conf(model_path)\n",
        "model_class = dynamic_import(train_args.model_module)\n",
        "model = model_class(idim, odim, train_args)\n",
        "torch_load(model_path, model)\n",
        "model = model.eval().to(device)\n",
        "inference_args = Namespace(**{\"threshold\": 0.5, \"minlenratio\": 0.0, \"maxlenratio\": 10.0})\n",
        "\n",
        "# define neural vocoder\n",
        "import yaml\n",
        "from parallel_wavegan.models import ParallelWaveGANGenerator\n",
        "with open(vocoder_conf) as f:\n",
        "    config = yaml.load(f, Loader=yaml.Loader)\n",
        "vocoder = ParallelWaveGANGenerator(**config[\"generator_params\"])\n",
        "vocoder.load_state_dict(torch.load(vocoder_path, map_location=\"cpu\")[\"model\"][\"generator\"])\n",
        "vocoder.remove_weight_norm()\n",
        "vocoder = vocoder.eval().to(device)\n",
        "\n",
        "# define text frontend\n",
        "from pypinyin import pinyin, Style\n",
        "from pypinyin.style._utils import get_initials, get_finals\n",
        "with open(dict_path) as f:\n",
        "    lines = f.readlines()\n",
        "lines = [line.replace(\"\\n\", \"\").split(\" \") for line in lines]\n",
        "char_to_id = {c: int(i) for c, i in lines}\n",
        "def frontend(text):\n",
        "    \"\"\"Clean text and then convert to id sequence.\"\"\"\n",
        "    text = pinyin(text, style=Style.TONE3)\n",
        "    text = [c[0] for c in text]\n",
        "    print(f\"Cleaned text: {text}\")\n",
        "    idseq = []\n",
        "    for x in text:\n",
        "        c_init = get_initials(x, strict=True)\n",
        "        c_final = get_finals(x, strict=True)\n",
        "        for c in [c_init, c_final]:\n",
        "            if len(c) == 0:\n",
        "                continue\n",
        "            c = c.replace(\"ü\", \"v\")\n",
        "            c = c.replace(\"ui\", \"uei\")\n",
        "            c = c.replace(\"un\", \"uen\")\n",
        "            c = c.replace(\"iu\", \"iou\")\n",
        "            # Special rule: \"e5n\" -> \"en5\"\n",
        "            if \"5\" in c:\n",
        "                c = c.replace(\"5\", \"\") + \"5\"\n",
        "            if c not in char_to_id.keys():\n",
        "                print(f\"WARN: {c} is not included in dict.\")\n",
        "                idseq += [char_to_id[\"<unk>\"]]\n",
        "            else:\n",
        "                idseq += [char_to_id[c]]\n",
        "    idseq += [idim - 1]  # <eos>\n",
        "    return torch.LongTensor(idseq).view(-1).to(device)\n",
        "\n",
        "print(\"now ready to synthesize!\")"
      ],
      "execution_count": 0,
      "outputs": []
    },
    {
      "cell_type": "markdown",
      "metadata": {
        "id": "04pDL8V6Rg5v",
        "colab_type": "text"
      },
      "source": [
        "### Synthesis"
      ]
    },
    {
      "cell_type": "code",
      "metadata": {
        "id": "PGLeZP1CCB2E",
        "colab_type": "code",
        "colab": {}
      },
      "source": [
        "import time\n",
        "print(\"請用中文輸入您喜歡的句子!\")\n",
        "input_text = input()\n",
        "\n",
        "with torch.no_grad():\n",
        "    start = time.time()\n",
        "    x = frontend(input_text)\n",
        "    c, _, _ = model.inference(x, inference_args)\n",
        "    z = torch.randn(1, 1, c.size(0) * config[\"hop_size\"]).to(device)\n",
        "    c = torch.nn.ReplicationPad1d(\n",
        "        config[\"generator_params\"][\"aux_context_window\"])(c.unsqueeze(0).transpose(2, 1))\n",
        "    y = vocoder(z, c).view(-1)\n",
        "rtf = (time.time() - start) / (len(y) / config[\"sampling_rate\"])\n",
        "print(f\"RTF = {rtf:5f}\")\n",
        "\n",
        "from IPython.display import display, Audio\n",
        "display(Audio(y.view(-1).cpu().numpy(), rate=config[\"sampling_rate\"]))"
      ],
      "execution_count": 0,
      "outputs": []
    }
  ]
}